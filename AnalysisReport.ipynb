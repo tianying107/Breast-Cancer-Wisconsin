{
 "cells": [
  {
   "cell_type": "code",
   "execution_count": 1,
   "metadata": {},
   "outputs": [],
   "source": [
    "import pandas as pd\n",
    "import numpy as np\n",
    "from sklearn.preprocessing import StandardScaler\n",
    "from sklearn.model_selection import train_test_split\n",
    "import matplotlib.pyplot as plt"
   ]
  },
  {
   "cell_type": "markdown",
   "metadata": {},
   "source": [
    "## Data preprocessing\n",
    "The missing attribute is represented using '?'. Thus, we need to replace the '?' by nan value then drop the rows contain nan."
   ]
  },
  {
   "cell_type": "code",
   "execution_count": 2,
   "metadata": {},
   "outputs": [
    {
     "name": "stderr",
     "output_type": "stream",
     "text": [
      "/Users/stn/PycharmProjects/u2os/YoloNuclei/venv/lib/python3.6/site-packages/sklearn/utils/validation.py:590: DataConversionWarning: Data with input dtype object was converted to float64 by StandardScaler.\n",
      "  warnings.warn(msg, DataConversionWarning)\n",
      "/Users/stn/PycharmProjects/u2os/YoloNuclei/venv/lib/python3.6/site-packages/sklearn/utils/validation.py:590: DataConversionWarning: Data with input dtype object was converted to float64 by StandardScaler.\n",
      "  warnings.warn(msg, DataConversionWarning)\n"
     ]
    }
   ],
   "source": [
    "df = pd.read_csv('breast-cancer-wisconsin.data.csv', header=None)\n",
    "df.replace('?',np.nan, inplace=True)\n",
    "df = df.dropna()\n",
    "\n",
    "X_df = df.iloc[:,0:-1]\n",
    "y_df = df.iloc[:,-1].map({2:0, 4:1})\n",
    "\n",
    "X = X_df.to_numpy()\n",
    "X = StandardScaler().fit_transform(X)\n",
    "y = y_df.to_numpy()\n",
    "X_train, X_test, y_train, y_test = train_test_split(X, y, test_size=0.2, random_state=42)"
   ]
  },
  {
   "cell_type": "code",
   "execution_count": 3,
   "metadata": {},
   "outputs": [
    {
     "name": "stdout",
     "output_type": "stream",
     "text": [
      "Number of Benign class: 444. \n",
      "Number of Malignant class: 239.\n"
     ]
    }
   ],
   "source": [
    "print('Number of Benign class: {}. \\nNumber of Malignant class: {}.'.format(y_df[y_df==0].count(), y_df[y_df==1].count()))"
   ]
  },
  {
   "cell_type": "markdown",
   "metadata": {},
   "source": [
    "## Statistical analysis\n",
    "We calculate the pearson correlation coefficient between each features and class index."
   ]
  },
  {
   "cell_type": "code",
   "execution_count": 4,
   "metadata": {},
   "outputs": [
    {
     "data": {
      "text/html": [
       "<div>\n",
       "<style scoped>\n",
       "    .dataframe tbody tr th:only-of-type {\n",
       "        vertical-align: middle;\n",
       "    }\n",
       "\n",
       "    .dataframe tbody tr th {\n",
       "        vertical-align: top;\n",
       "    }\n",
       "\n",
       "    .dataframe thead th {\n",
       "        text-align: right;\n",
       "    }\n",
       "</style>\n",
       "<table border=\"1\" class=\"dataframe\">\n",
       "  <thead>\n",
       "    <tr style=\"text-align: right;\">\n",
       "      <th></th>\n",
       "      <th>0</th>\n",
       "      <th>1</th>\n",
       "      <th>2</th>\n",
       "      <th>3</th>\n",
       "      <th>4</th>\n",
       "      <th>5</th>\n",
       "      <th>7</th>\n",
       "      <th>8</th>\n",
       "      <th>9</th>\n",
       "      <th>10</th>\n",
       "    </tr>\n",
       "  </thead>\n",
       "  <tbody>\n",
       "    <tr>\n",
       "      <th>0</th>\n",
       "      <td>1.000000</td>\n",
       "      <td>-0.056350</td>\n",
       "      <td>-0.041396</td>\n",
       "      <td>-0.042221</td>\n",
       "      <td>-0.069630</td>\n",
       "      <td>-0.048644</td>\n",
       "      <td>-0.061966</td>\n",
       "      <td>-0.050699</td>\n",
       "      <td>-0.037972</td>\n",
       "      <td>-0.084701</td>\n",
       "    </tr>\n",
       "    <tr>\n",
       "      <th>1</th>\n",
       "      <td>-0.056350</td>\n",
       "      <td>1.000000</td>\n",
       "      <td>0.642481</td>\n",
       "      <td>0.653470</td>\n",
       "      <td>0.487829</td>\n",
       "      <td>0.523596</td>\n",
       "      <td>0.553742</td>\n",
       "      <td>0.534066</td>\n",
       "      <td>0.350957</td>\n",
       "      <td>0.714790</td>\n",
       "    </tr>\n",
       "    <tr>\n",
       "      <th>2</th>\n",
       "      <td>-0.041396</td>\n",
       "      <td>0.642481</td>\n",
       "      <td>1.000000</td>\n",
       "      <td>0.907228</td>\n",
       "      <td>0.706977</td>\n",
       "      <td>0.753544</td>\n",
       "      <td>0.755559</td>\n",
       "      <td>0.719346</td>\n",
       "      <td>0.460755</td>\n",
       "      <td>0.820801</td>\n",
       "    </tr>\n",
       "    <tr>\n",
       "      <th>3</th>\n",
       "      <td>-0.042221</td>\n",
       "      <td>0.653470</td>\n",
       "      <td>0.907228</td>\n",
       "      <td>1.000000</td>\n",
       "      <td>0.685948</td>\n",
       "      <td>0.722462</td>\n",
       "      <td>0.735344</td>\n",
       "      <td>0.717963</td>\n",
       "      <td>0.441258</td>\n",
       "      <td>0.821891</td>\n",
       "    </tr>\n",
       "    <tr>\n",
       "      <th>4</th>\n",
       "      <td>-0.069630</td>\n",
       "      <td>0.487829</td>\n",
       "      <td>0.706977</td>\n",
       "      <td>0.685948</td>\n",
       "      <td>1.000000</td>\n",
       "      <td>0.594548</td>\n",
       "      <td>0.668567</td>\n",
       "      <td>0.603121</td>\n",
       "      <td>0.418898</td>\n",
       "      <td>0.706294</td>\n",
       "    </tr>\n",
       "    <tr>\n",
       "      <th>5</th>\n",
       "      <td>-0.048644</td>\n",
       "      <td>0.523596</td>\n",
       "      <td>0.753544</td>\n",
       "      <td>0.722462</td>\n",
       "      <td>0.594548</td>\n",
       "      <td>1.000000</td>\n",
       "      <td>0.618128</td>\n",
       "      <td>0.628926</td>\n",
       "      <td>0.480583</td>\n",
       "      <td>0.690958</td>\n",
       "    </tr>\n",
       "    <tr>\n",
       "      <th>7</th>\n",
       "      <td>-0.061966</td>\n",
       "      <td>0.553742</td>\n",
       "      <td>0.755559</td>\n",
       "      <td>0.735344</td>\n",
       "      <td>0.668567</td>\n",
       "      <td>0.618128</td>\n",
       "      <td>1.000000</td>\n",
       "      <td>0.665602</td>\n",
       "      <td>0.346011</td>\n",
       "      <td>0.758228</td>\n",
       "    </tr>\n",
       "    <tr>\n",
       "      <th>8</th>\n",
       "      <td>-0.050699</td>\n",
       "      <td>0.534066</td>\n",
       "      <td>0.719346</td>\n",
       "      <td>0.717963</td>\n",
       "      <td>0.603121</td>\n",
       "      <td>0.628926</td>\n",
       "      <td>0.665602</td>\n",
       "      <td>1.000000</td>\n",
       "      <td>0.433757</td>\n",
       "      <td>0.718677</td>\n",
       "    </tr>\n",
       "    <tr>\n",
       "      <th>9</th>\n",
       "      <td>-0.037972</td>\n",
       "      <td>0.350957</td>\n",
       "      <td>0.460755</td>\n",
       "      <td>0.441258</td>\n",
       "      <td>0.418898</td>\n",
       "      <td>0.480583</td>\n",
       "      <td>0.346011</td>\n",
       "      <td>0.433757</td>\n",
       "      <td>1.000000</td>\n",
       "      <td>0.423448</td>\n",
       "    </tr>\n",
       "    <tr>\n",
       "      <th>10</th>\n",
       "      <td>-0.084701</td>\n",
       "      <td>0.714790</td>\n",
       "      <td>0.820801</td>\n",
       "      <td>0.821891</td>\n",
       "      <td>0.706294</td>\n",
       "      <td>0.690958</td>\n",
       "      <td>0.758228</td>\n",
       "      <td>0.718677</td>\n",
       "      <td>0.423448</td>\n",
       "      <td>1.000000</td>\n",
       "    </tr>\n",
       "  </tbody>\n",
       "</table>\n",
       "</div>"
      ],
      "text/plain": [
       "          0         1         2         3         4         5         7   \\\n",
       "0   1.000000 -0.056350 -0.041396 -0.042221 -0.069630 -0.048644 -0.061966   \n",
       "1  -0.056350  1.000000  0.642481  0.653470  0.487829  0.523596  0.553742   \n",
       "2  -0.041396  0.642481  1.000000  0.907228  0.706977  0.753544  0.755559   \n",
       "3  -0.042221  0.653470  0.907228  1.000000  0.685948  0.722462  0.735344   \n",
       "4  -0.069630  0.487829  0.706977  0.685948  1.000000  0.594548  0.668567   \n",
       "5  -0.048644  0.523596  0.753544  0.722462  0.594548  1.000000  0.618128   \n",
       "7  -0.061966  0.553742  0.755559  0.735344  0.668567  0.618128  1.000000   \n",
       "8  -0.050699  0.534066  0.719346  0.717963  0.603121  0.628926  0.665602   \n",
       "9  -0.037972  0.350957  0.460755  0.441258  0.418898  0.480583  0.346011   \n",
       "10 -0.084701  0.714790  0.820801  0.821891  0.706294  0.690958  0.758228   \n",
       "\n",
       "          8         9         10  \n",
       "0  -0.050699 -0.037972 -0.084701  \n",
       "1   0.534066  0.350957  0.714790  \n",
       "2   0.719346  0.460755  0.820801  \n",
       "3   0.717963  0.441258  0.821891  \n",
       "4   0.603121  0.418898  0.706294  \n",
       "5   0.628926  0.480583  0.690958  \n",
       "7   0.665602  0.346011  0.758228  \n",
       "8   1.000000  0.433757  0.718677  \n",
       "9   0.433757  1.000000  0.423448  \n",
       "10  0.718677  0.423448  1.000000  "
      ]
     },
     "execution_count": 4,
     "metadata": {},
     "output_type": "execute_result"
    }
   ],
   "source": [
    "df.corr(method='pearson')"
   ]
  },
  {
   "cell_type": "markdown",
   "metadata": {},
   "source": [
    "We can find that almost all the features show strong linear correlation with the class index."
   ]
  },
  {
   "cell_type": "markdown",
   "metadata": {},
   "source": [
    "## Data visualizations\n",
    "## PCA"
   ]
  },
  {
   "cell_type": "code",
   "execution_count": 5,
   "metadata": {},
   "outputs": [],
   "source": [
    "from sklearn.decomposition import PCA"
   ]
  },
  {
   "cell_type": "code",
   "execution_count": 6,
   "metadata": {},
   "outputs": [
    {
     "data": {
      "text/html": [
       "<div>\n",
       "<style scoped>\n",
       "    .dataframe tbody tr th:only-of-type {\n",
       "        vertical-align: middle;\n",
       "    }\n",
       "\n",
       "    .dataframe tbody tr th {\n",
       "        vertical-align: top;\n",
       "    }\n",
       "\n",
       "    .dataframe thead th {\n",
       "        text-align: right;\n",
       "    }\n",
       "</style>\n",
       "<table border=\"1\" class=\"dataframe\">\n",
       "  <thead>\n",
       "    <tr style=\"text-align: right;\">\n",
       "      <th></th>\n",
       "      <th>component_1</th>\n",
       "      <th>component_2</th>\n",
       "      <th>target</th>\n",
       "    </tr>\n",
       "  </thead>\n",
       "  <tbody>\n",
       "    <tr>\n",
       "      <th>0</th>\n",
       "      <td>-1.465037</td>\n",
       "      <td>-0.180405</td>\n",
       "      <td>0</td>\n",
       "    </tr>\n",
       "    <tr>\n",
       "      <th>1</th>\n",
       "      <td>1.445675</td>\n",
       "      <td>-0.187361</td>\n",
       "      <td>0</td>\n",
       "    </tr>\n",
       "    <tr>\n",
       "      <th>2</th>\n",
       "      <td>-1.588076</td>\n",
       "      <td>-0.171585</td>\n",
       "      <td>0</td>\n",
       "    </tr>\n",
       "    <tr>\n",
       "      <th>3</th>\n",
       "      <td>1.481801</td>\n",
       "      <td>0.067605</td>\n",
       "      <td>0</td>\n",
       "    </tr>\n",
       "    <tr>\n",
       "      <th>4</th>\n",
       "      <td>-1.340695</td>\n",
       "      <td>-0.164636</td>\n",
       "      <td>0</td>\n",
       "    </tr>\n",
       "  </tbody>\n",
       "</table>\n",
       "</div>"
      ],
      "text/plain": [
       "   component_1  component_2  target\n",
       "0    -1.465037    -0.180405       0\n",
       "1     1.445675    -0.187361       0\n",
       "2    -1.588076    -0.171585       0\n",
       "3     1.481801     0.067605       0\n",
       "4    -1.340695    -0.164636       0"
      ]
     },
     "execution_count": 6,
     "metadata": {},
     "output_type": "execute_result"
    }
   ],
   "source": [
    "pca_model = PCA(n_components=2)\n",
    "pca_components = pca_model.fit_transform(X)\n",
    "pca_df = pd.DataFrame(data=pca_components, columns=['component_1', 'component_2'])\n",
    "target_df = pd.DataFrame(data=y, columns=['target'])\n",
    "pca_df = pd.concat([pca_df,target_df], axis=1)\n",
    "pca_df.head()"
   ]
  },
  {
   "cell_type": "code",
   "execution_count": 7,
   "metadata": {},
   "outputs": [
    {
     "data": {
      "image/png": "[encoded data removed]",
      "text/plain": [
       "<Figure size 576x576 with 1 Axes>"
      ]
     },
     "metadata": {},
     "output_type": "display_data"
    }
   ],
   "source": [
    "fig = plt.figure(figsize=(8,8))\n",
    "ax = fig.add_subplot(1,1,1)\n",
    "ax.set_xlabel('component 1')\n",
    "ax.set_ylabel('component 2')\n",
    "ax.set_title('PCA components')\n",
    "targets = [0,1]\n",
    "colors = ['r','b']\n",
    "for target, color in zip(targets, colors):\n",
    "    indices = pca_df['target']==target\n",
    "    ax.scatter(pca_df.loc[indices,'component_1'], pca_df.loc[indices,'component_2'],c=color, s=50)\n",
    "ax.legend(targets)\n",
    "ax.grid()    "
   ]
  },
  {
   "cell_type": "markdown",
   "metadata": {},
   "source": [
    "## t-SNE"
   ]
  },
  {
   "cell_type": "code",
   "execution_count": 8,
   "metadata": {},
   "outputs": [],
   "source": [
    "from sklearn.manifold import TSNE"
   ]
  },
  {
   "cell_type": "code",
   "execution_count": 9,
   "metadata": {},
   "outputs": [
    {
     "data": {
      "text/html": [
       "<div>\n",
       "<style scoped>\n",
       "    .dataframe tbody tr th:only-of-type {\n",
       "        vertical-align: middle;\n",
       "    }\n",
       "\n",
       "    .dataframe tbody tr th {\n",
       "        vertical-align: top;\n",
       "    }\n",
       "\n",
       "    .dataframe thead th {\n",
       "        text-align: right;\n",
       "    }\n",
       "</style>\n",
       "<table border=\"1\" class=\"dataframe\">\n",
       "  <thead>\n",
       "    <tr style=\"text-align: right;\">\n",
       "      <th></th>\n",
       "      <th>tsne_1</th>\n",
       "      <th>tsne_2</th>\n",
       "      <th>target</th>\n",
       "    </tr>\n",
       "  </thead>\n",
       "  <tbody>\n",
       "    <tr>\n",
       "      <th>0</th>\n",
       "      <td>1.755599</td>\n",
       "      <td>-3.375269</td>\n",
       "      <td>0</td>\n",
       "    </tr>\n",
       "    <tr>\n",
       "      <th>1</th>\n",
       "      <td>9.446494</td>\n",
       "      <td>20.487942</td>\n",
       "      <td>0</td>\n",
       "    </tr>\n",
       "    <tr>\n",
       "      <th>2</th>\n",
       "      <td>-5.859907</td>\n",
       "      <td>-6.315956</td>\n",
       "      <td>0</td>\n",
       "    </tr>\n",
       "    <tr>\n",
       "      <th>3</th>\n",
       "      <td>19.001707</td>\n",
       "      <td>14.288898</td>\n",
       "      <td>0</td>\n",
       "    </tr>\n",
       "    <tr>\n",
       "      <th>4</th>\n",
       "      <td>-1.376088</td>\n",
       "      <td>-0.147478</td>\n",
       "      <td>0</td>\n",
       "    </tr>\n",
       "  </tbody>\n",
       "</table>\n",
       "</div>"
      ],
      "text/plain": [
       "      tsne_1     tsne_2  target\n",
       "0   1.755599  -3.375269       0\n",
       "1   9.446494  20.487942       0\n",
       "2  -5.859907  -6.315956       0\n",
       "3  19.001707  14.288898       0\n",
       "4  -1.376088  -0.147478       0"
      ]
     },
     "execution_count": 9,
     "metadata": {},
     "output_type": "execute_result"
    }
   ],
   "source": [
    "tsne_model = TSNE(n_components=2, perplexity=30, random_state=42)\n",
    "tsne_components = tsne_model.fit_transform(X)\n",
    "tsne_df = pd.DataFrame(data=tsne_components, columns=['tsne_1', 'tsne_2'])\n",
    "tsne_df = pd.concat([tsne_df, target_df], axis=1)\n",
    "tsne_df.head()"
   ]
  },
  {
   "cell_type": "code",
   "execution_count": 10,
   "metadata": {},
   "outputs": [
    {
     "data": {
      "image/png": "[encoded data removed]",
      "text/plain": [
       "<Figure size 576x576 with 1 Axes>"
      ]
     },
     "metadata": {},
     "output_type": "display_data"
    }
   ],
   "source": [
    "fig = plt.figure(figsize=(8,8))\n",
    "ax = fig.add_subplot(1,1,1)\n",
    "ax.set_xlabel('component 1')\n",
    "ax.set_ylabel('component 2')\n",
    "ax.set_title('TSNE Components', fontsize=20)\n",
    "colors = ['r','b']\n",
    "targets = [0,1]\n",
    "for target, color in zip(targets, colors):\n",
    "    indices = tsne_df['target']==target\n",
    "    ax.scatter(tsne_df.loc[indices, 'tsne_1'], tsne_df.loc[indices, 'tsne_2'], c=color, s=50)\n",
    "ax.legend(targets)\n",
    "ax.grid()"
   ]
  },
  {
   "cell_type": "markdown",
   "metadata": {},
   "source": [
    "## XGBoost for feature selection and classification"
   ]
  },
  {
   "cell_type": "code",
   "execution_count": 11,
   "metadata": {},
   "outputs": [],
   "source": [
    "import xgboost as xgb\n",
    "from sklearn.metrics import accuracy_score"
   ]
  },
  {
   "cell_type": "code",
   "execution_count": 12,
   "metadata": {},
   "outputs": [
    {
     "name": "stdout",
     "output_type": "stream",
     "text": [
      "[0]\tvalidation_0-auc:0.97436\n",
      "[1]\tvalidation_0-auc:0.99225\n",
      "[2]\tvalidation_0-auc:0.99138\n",
      "[3]\tvalidation_0-auc:0.99127\n",
      "[4]\tvalidation_0-auc:0.99149\n",
      "[5]\tvalidation_0-auc:0.99323\n",
      "[6]\tvalidation_0-auc:0.99302\n",
      "[7]\tvalidation_0-auc:0.99258\n",
      "[8]\tvalidation_0-auc:0.99323\n",
      "[9]\tvalidation_0-auc:0.99323\n",
      "[10]\tvalidation_0-auc:0.99389\n",
      "[11]\tvalidation_0-auc:0.99433\n",
      "[12]\tvalidation_0-auc:0.99542\n",
      "[13]\tvalidation_0-auc:0.99498\n",
      "[14]\tvalidation_0-auc:0.99564\n",
      "[15]\tvalidation_0-auc:0.99585\n",
      "[16]\tvalidation_0-auc:0.99520\n",
      "[17]\tvalidation_0-auc:0.99564\n",
      "[18]\tvalidation_0-auc:0.99564\n",
      "[19]\tvalidation_0-auc:0.99585\n",
      "[20]\tvalidation_0-auc:0.99629\n",
      "[21]\tvalidation_0-auc:0.99651\n",
      "[22]\tvalidation_0-auc:0.99629\n",
      "[23]\tvalidation_0-auc:0.99629\n",
      "[24]\tvalidation_0-auc:0.99673\n",
      "[25]\tvalidation_0-auc:0.99673\n",
      "[26]\tvalidation_0-auc:0.99651\n",
      "[27]\tvalidation_0-auc:0.99651\n",
      "[28]\tvalidation_0-auc:0.99651\n"
     ]
    },
    {
     "data": {
      "text/plain": [
       "XGBClassifier(base_score=0.5, booster='gbtree', colsample_bylevel=1,\n",
       "       colsample_bynode=1, colsample_bytree=1, eval_metric=['auc'],\n",
       "       gamma=0, gpu_id=-1, importance_type='gain',\n",
       "       interaction_constraints='', learning_rate=0.300000012,\n",
       "       max_delta_step=0, max_depth=6, min_child_weight=1, missing=nan,\n",
       "       monotone_constraints='()', n_estimators=100, n_jobs=8,\n",
       "       num_parallel_tree=1, objective='binary:logistic', random_state=42,\n",
       "       reg_alpha=0, reg_lambda=1, scale_pos_weight=1, subsample=1,\n",
       "       tree_method='exact', use_label_encoder=False, validate_parameters=1,\n",
       "       verbosity=None)"
      ]
     },
     "execution_count": 12,
     "metadata": {},
     "output_type": "execute_result"
    }
   ],
   "source": [
    "xgb_model = xgb.XGBClassifier(objective='binary:logistic', random_state=42, use_label_encoder=False, eval_metric=['auc'])\n",
    "xgb_model.fit(X_train, y_train, early_stopping_rounds=5, eval_set=[(X_test, y_test)])"
   ]
  },
  {
   "cell_type": "code",
   "execution_count": 13,
   "metadata": {},
   "outputs": [
    {
     "name": "stdout",
     "output_type": "stream",
     "text": [
      "best AUC score achieved at iteration 24 with ntree 25\n",
      "XGBoost model achieves auc score: 0.997, acc score: 0.964\n",
      "Feature importance: [0.01145728 0.02305023 0.5423195  0.29322496 0.01149088 0.01835848\n",
      " 0.04905907 0.02536974 0.02566999 0.        ]\n"
     ]
    }
   ],
   "source": [
    "print('best AUC score achieved at iteration {} with ntree {}'.format(xgb_model.best_iteration,xgb_model.best_ntree_limit))\n",
    "xgb_pred = xgb_model.predict(X_test)\n",
    "xgb_acc = accuracy_score(y_test, xgb_pred)\n",
    "print('XGBoost model achieves auc score: {:.3f}, acc score: {:.3f}'.format(xgb_model.best_score, xgb_acc))\n",
    "print('Feature importance: {}'.format(xgb_model.feature_importances_))"
   ]
  },
  {
   "cell_type": "markdown",
   "metadata": {},
   "source": [
    "## Neural Network"
   ]
  },
  {
   "cell_type": "code",
   "execution_count": 14,
   "metadata": {},
   "outputs": [],
   "source": [
    "import tensorflow as tf\n",
    "from tensorflow.keras.models import Model\n",
    "from tensorflow.keras.layers import Dense, Input, Dropout"
   ]
  },
  {
   "cell_type": "code",
   "execution_count": 22,
   "metadata": {},
   "outputs": [],
   "source": [
    "def create_nn_model(features_nums):\n",
    "    input = Input(shape=(features_nums), name='input_layer')\n",
    "    x = Dense(16, activation='relu', name='h1')(input)\n",
    "    x = Dense(16, activation='relu', name='h2')(x)\n",
    "    x = Dense(8, activation='relu', name='h3')(x)\n",
    "    output = Dense(1, activation='sigmoid', name='output_layer')(x)\n",
    "    \n",
    "    return Model(inputs=input, outputs=output)"
   ]
  },
  {
   "cell_type": "code",
   "execution_count": 23,
   "metadata": {},
   "outputs": [
    {
     "name": "stdout",
     "output_type": "stream",
     "text": [
      "Model: \"model_1\"\n",
      "_________________________________________________________________\n",
      "Layer (type)                 Output Shape              Param #   \n",
      "=================================================================\n",
      "input_layer (InputLayer)     [(None, 10)]              0         \n",
      "_________________________________________________________________\n",
      "h1 (Dense)                   (None, 16)                176       \n",
      "_________________________________________________________________\n",
      "h2 (Dense)                   (None, 16)                272       \n",
      "_________________________________________________________________\n",
      "h3 (Dense)                   (None, 8)                 136       \n",
      "_________________________________________________________________\n",
      "output_layer (Dense)         (None, 1)                 9         \n",
      "=================================================================\n",
      "Total params: 593\n",
      "Trainable params: 593\n",
      "Non-trainable params: 0\n",
      "_________________________________________________________________\n"
     ]
    }
   ],
   "source": [
    "nn_model=create_nn_model(X_train.shape[1])\n",
    "nn_model.compile(loss='binary_crossentropy',\n",
    "                 optimizer='adam',\n",
    "                 metrics=['accuracy', tf.metrics.AUC()])\n",
    "nn_model.summary()"
   ]
  },
  {
   "cell_type": "code",
   "execution_count": 24,
   "metadata": {},
   "outputs": [],
   "source": [
    "history = nn_model.fit(X_train, y_train, epochs=11, batch_size=10, validation_split=0.2, verbose=0)"
   ]
  },
  {
   "cell_type": "code",
   "execution_count": 25,
   "metadata": {},
   "outputs": [
    {
     "name": "stdout",
     "output_type": "stream",
     "text": [
      "5/5 [==============================] - 0s 2ms/step - loss: 0.0615 - accuracy: 0.9781 - auc_1: 0.9978\n",
      "The neural network model achieves acc of 0.978, and auc of 0.998.\n"
     ]
    }
   ],
   "source": [
    "res_nn = nn_model.evaluate(X_test, y_test)\n",
    "print('The neural network model achieves acc of {:.3f}, and auc of {:.3f}.'.format(res_nn[1],res_nn[2]))"
   ]
  },
  {
   "cell_type": "code",
   "execution_count": 26,
   "metadata": {},
   "outputs": [
    {
     "name": "stdout",
     "output_type": "stream",
     "text": [
      "dict_keys(['loss', 'accuracy', 'auc_1', 'val_loss', 'val_accuracy', 'val_auc_1'])\n"
     ]
    }
   ],
   "source": [
    "print(history.history.keys())"
   ]
  },
  {
   "cell_type": "code",
   "execution_count": 27,
   "metadata": {},
   "outputs": [
    {
     "data": {
      "image/png": "[encoded data removed]",
      "text/plain": [
       "<Figure size 432x288 with 1 Axes>"
      ]
     },
     "metadata": {},
     "output_type": "display_data"
    }
   ],
   "source": [
    "# summarize history for accuracy\n",
    "plt.plot(history.history['auc_1'])\n",
    "plt.plot(history.history['val_auc_1'])\n",
    "plt.title('model AUC')\n",
    "plt.ylabel('AUC')\n",
    "plt.xlabel('epoch')\n",
    "plt.legend(['train', 'val'], loc='upper left')\n",
    "plt.show()"
   ]
  },
  {
   "cell_type": "code",
   "execution_count": 28,
   "metadata": {},
   "outputs": [
    {
     "data": {
      "image/png": "[encoded data removed]",
      "text/plain": [
       "<Figure size 432x288 with 1 Axes>"
      ]
     },
     "metadata": {},
     "output_type": "display_data"
    }
   ],
   "source": [
    "# summarize history for loss\n",
    "plt.plot(history.history['loss'])\n",
    "plt.plot(history.history['val_loss'])\n",
    "plt.title('model loss')\n",
    "plt.ylabel('loss')\n",
    "plt.xlabel('epoch')\n",
    "plt.legend(['train', 'val'], loc='upper left')\n",
    "plt.show()"
   ]
  },
  {
   "cell_type": "markdown",
   "metadata": {},
   "source": [
    "## Classification\n",
    "The neural network model and the XGBoost model have similar performance in terms of the auc and accuracy scores. Both accuracy scores indicates better performance than the original studys $^{[1, 2]}$."
   ]
  },
  {
   "cell_type": "code",
   "execution_count": 30,
   "metadata": {},
   "outputs": [
    {
     "name": "stdout",
     "output_type": "stream",
     "text": [
      "XGBoost model achieves acc score: 0.964, auc score: 0.997\n",
      "The neural network model achieves acc of 0.978, and auc of 0.998.\n"
     ]
    }
   ],
   "source": [
    "print('XGBoost model achieves acc score: {:.3f}, auc score: {:.3f}'.format(xgb_acc, xgb_model.best_score))\n",
    "print('The neural network model achieves acc of {:.3f}, and auc of {:.3f}.'.format(res_nn[1],res_nn[2]))"
   ]
  },
  {
   "cell_type": "markdown",
   "metadata": {},
   "source": [
    "# References\n",
    "   1. Wolberg,~W.~H., \\& Mangasarian,~O.~L. (1990). Multisurface method of \n",
    "      pattern separation for medical diagnosis applied to breast cytology. In\n",
    "      {\\it Proceedings of the National Academy of Sciences}, {\\it 87},\n",
    "      9193--9196.\n",
    "   2. Zhang,~J. (1992). Selecting typical instances in instance-based\n",
    "      learning.  In {\\it Proceedings of the Ninth International Machine\n",
    "      Learning Conference} (pp. 470--479).\n",
    "\n",
    "## Data Source\n",
    "Website: https://archive.ics.uci.edu/ml/datasets/Breast+Cancer+Wisconsin+%28Diagnostic%29\n",
    "\n",
    "Dataset source: https://archive.ics.uci.edu/ml/machine-learning-databases/breast-cancer-wisconsin/breast-cancer-wisconsin.data\n",
    "\n",
    "Dataset deails: https://archive.ics.uci.edu/ml/machine-learning-databases/breast-cancer-wisconsin/breast-cancer-wisconsin.names"
   ]
  },
  {
   "cell_type": "code",
   "execution_count": null,
   "metadata": {},
   "outputs": [],
   "source": []
  }
 ],
 "metadata": {
  "kernelspec": {
   "display_name": "Python 3",
   "language": "python",
   "name": "python3"
  },
  "language_info": {
   "codemirror_mode": {
    "name": "ipython",
    "version": 3
   },
   "file_extension": ".py",
   "mimetype": "text/x-python",
   "name": "python",
   "nbconvert_exporter": "python",
   "pygments_lexer": "ipython3",
   "version": "3.6.5"
  }
 },
 "nbformat": 4,
 "nbformat_minor": 1
}
